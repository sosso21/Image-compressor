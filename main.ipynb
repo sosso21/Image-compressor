{
 "cells": [
  {
   "cell_type": "code",
   "execution_count": null,
   "metadata": {},
   "outputs": [],
   "source": [
    "# conda install pillow\n"
   ]
  },
  {
   "cell_type": "code",
   "execution_count": 15,
   "metadata": {},
   "outputs": [
    {
     "ename": "UnidentifiedImageError",
     "evalue": "cannot identify image file './test/box_services/img-1.jpeg'",
     "output_type": "error",
     "traceback": [
      "\u001b[1;31m---------------------------------------------------------------------------\u001b[0m",
      "\u001b[1;31mUnidentifiedImageError\u001b[0m                    Traceback (most recent call last)",
      "Cell \u001b[1;32mIn[15], line 38\u001b[0m\n\u001b[0;32m     35\u001b[0m                     os\u001b[38;5;241m.\u001b[39mremove(original_path)\n\u001b[0;32m     37\u001b[0m \u001b[38;5;28;01mif\u001b[39;00m \u001b[38;5;18m__name__\u001b[39m \u001b[38;5;241m==\u001b[39m \u001b[38;5;124m\"\u001b[39m\u001b[38;5;124m__main__\u001b[39m\u001b[38;5;124m\"\u001b[39m:\n\u001b[1;32m---> 38\u001b[0m     \u001b[43mprocess_images\u001b[49m\u001b[43m(\u001b[49m\u001b[43mpath_folder\u001b[49m\u001b[43m,\u001b[49m\u001b[43m \u001b[49m\u001b[43mconvert_to_webp\u001b[49m\u001b[43m,\u001b[49m\u001b[43m \u001b[49m\u001b[43mcreate_tumblr\u001b[49m\u001b[43m,\u001b[49m\u001b[43m \u001b[49m\u001b[43mdelete_original\u001b[49m\u001b[43m)\u001b[49m\n",
      "Cell \u001b[1;32mIn[15], line 29\u001b[0m, in \u001b[0;36mprocess_images\u001b[1;34m(path_folder, convert_to_webp, create_tumblr, delete_original)\u001b[0m\n\u001b[0;32m     26\u001b[0m tumblr_path \u001b[38;5;241m=\u001b[39m os\u001b[38;5;241m.\u001b[39mpath\u001b[38;5;241m.\u001b[39mjoin(root, \u001b[38;5;124mf\u001b[39m\u001b[38;5;124m\"\u001b[39m\u001b[38;5;124mtumblr_\u001b[39m\u001b[38;5;132;01m{\u001b[39;00mos\u001b[38;5;241m.\u001b[39mpath\u001b[38;5;241m.\u001b[39msplitext(file)[\u001b[38;5;241m0\u001b[39m]\u001b[38;5;132;01m}\u001b[39;00m\u001b[38;5;124m.webp\u001b[39m\u001b[38;5;124m\"\u001b[39m)\n\u001b[0;32m     28\u001b[0m \u001b[38;5;28;01mif\u001b[39;00m convert_to_webp:\n\u001b[1;32m---> 29\u001b[0m     \u001b[43mconvert_image_to_webp\u001b[49m\u001b[43m(\u001b[49m\u001b[43moriginal_path\u001b[49m\u001b[43m,\u001b[49m\u001b[43m \u001b[49m\u001b[43mwebp_path\u001b[49m\u001b[43m)\u001b[49m\n\u001b[0;32m     31\u001b[0m \u001b[38;5;28;01mif\u001b[39;00m create_tumblr:\n\u001b[0;32m     32\u001b[0m     create_tumblr_image(original_path, tumblr_path)\n",
      "Cell \u001b[1;32mIn[15], line 11\u001b[0m, in \u001b[0;36mconvert_image_to_webp\u001b[1;34m(image_path, output_path)\u001b[0m\n\u001b[0;32m     10\u001b[0m \u001b[38;5;28;01mdef\u001b[39;00m \u001b[38;5;21mconvert_image_to_webp\u001b[39m(image_path, output_path):\n\u001b[1;32m---> 11\u001b[0m     \u001b[38;5;28;01mwith\u001b[39;00m \u001b[43mImage\u001b[49m\u001b[38;5;241;43m.\u001b[39;49m\u001b[43mopen\u001b[49m\u001b[43m(\u001b[49m\u001b[43mimage_path\u001b[49m\u001b[43m)\u001b[49m \u001b[38;5;28;01mas\u001b[39;00m img:\n\u001b[0;32m     12\u001b[0m         img\u001b[38;5;241m.\u001b[39msave(output_path, \u001b[38;5;124m\"\u001b[39m\u001b[38;5;124mWEBP\u001b[39m\u001b[38;5;124m\"\u001b[39m)\n",
      "File \u001b[1;32mc:\\Users\\cbs\\anaconda3\\Lib\\site-packages\\PIL\\Image.py:3309\u001b[0m, in \u001b[0;36mopen\u001b[1;34m(fp, mode, formats)\u001b[0m\n\u001b[0;32m   3307\u001b[0m     warnings\u001b[38;5;241m.\u001b[39mwarn(message)\n\u001b[0;32m   3308\u001b[0m msg \u001b[38;5;241m=\u001b[39m \u001b[38;5;124m\"\u001b[39m\u001b[38;5;124mcannot identify image file \u001b[39m\u001b[38;5;132;01m%r\u001b[39;00m\u001b[38;5;124m\"\u001b[39m \u001b[38;5;241m%\u001b[39m (filename \u001b[38;5;28;01mif\u001b[39;00m filename \u001b[38;5;28;01melse\u001b[39;00m fp)\n\u001b[1;32m-> 3309\u001b[0m \u001b[38;5;28;01mraise\u001b[39;00m UnidentifiedImageError(msg)\n",
      "\u001b[1;31mUnidentifiedImageError\u001b[0m: cannot identify image file './test/box_services/img-1.jpeg'"
     ]
    }
   ],
   "source": [
    "import os\n",
    "from PIL import Image, ImageFilter\n",
    "\n",
    "# Variables de configuration\n",
    "path_folder = \"./test/box_services/\"\n",
    "convert_to_webp = True\n",
    "create_tumblr = True\n",
    "delete_original = True\n",
    "\n",
    "def convert_image_to_webp(image_path, output_path):\n",
    "    with Image.open(image_path) as img:\n",
    "        img.save(output_path, \"WEBP\")\n",
    "\n",
    "def create_tumblr_image(image_path, output_path):\n",
    "    with Image.open(image_path) as img:\n",
    "        img.thumbnail((50, 50))\n",
    "        img = img.filter(ImageFilter.GaussianBlur(5))\n",
    "        img.save(output_path, \"WEBP\")\n",
    "\n",
    "def process_images(path_folder, convert_to_webp, create_tumblr, delete_original):\n",
    "    for root, dirs, files in os.walk(path_folder):\n",
    "        for file in files:\n",
    "            if file.lower().endswith(('.png', '.jpg', '.jpeg', '.bmp', '.tiff')):\n",
    "                original_path = os.path.join(root, file)\n",
    "                webp_path = os.path.join(root, f\"{os.path.splitext(file)[0]}.webp\")\n",
    "                tumblr_path = os.path.join(root, f\"tumblr_{os.path.splitext(file)[0]}.webp\")\n",
    "\n",
    "                if convert_to_webp:\n",
    "                    convert_image_to_webp(original_path, webp_path)\n",
    "                \n",
    "                if create_tumblr:\n",
    "                    create_tumblr_image(original_path, tumblr_path)\n",
    "\n",
    "                if delete_original:\n",
    "                    os.remove(original_path)\n",
    "\n",
    "if __name__ == \"__main__\":\n",
    "    process_images(path_folder, convert_to_webp, create_tumblr, delete_original)\n"
   ]
  }
 ],
 "metadata": {
  "kernelspec": {
   "display_name": "base",
   "language": "python",
   "name": "python3"
  },
  "language_info": {
   "codemirror_mode": {
    "name": "ipython",
    "version": 3
   },
   "file_extension": ".py",
   "mimetype": "text/x-python",
   "name": "python",
   "nbconvert_exporter": "python",
   "pygments_lexer": "ipython3",
   "version": "3.11.7"
  }
 },
 "nbformat": 4,
 "nbformat_minor": 2
}
